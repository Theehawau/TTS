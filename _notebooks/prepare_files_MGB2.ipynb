{
 "cells": [
  {
   "cell_type": "code",
   "execution_count": null,
   "metadata": {},
   "outputs": [
    {
     "name": "stderr",
     "output_type": "stream",
     "text": [
      "/home/hawau.toyin/.local/lib/python3.8/site-packages/tqdm/auto.py:21: TqdmWarning: IProgress not found. Please update jupyter and ipywidgets. See https://ipywidgets.readthedocs.io/en/stable/user_install.html\n",
      "  from .autonotebook import tqdm as notebook_tqdm\n"
     ]
    }
   ],
   "source": [
    "import re\n",
    "import sys\n",
    "import glob\n",
    "import soundfile\n",
    "import unicodedata\n",
    "\n",
    "import pandas as pd\n",
    "import sentencepiece as spm\n",
    "import pyarabic.araby as araby\n",
    "\n",
    "\n",
    "from tqdm import tqdm\n",
    "from pathlib import Path\n",
    "from datasets import load_from_disk\n",
    "from sklearn.model_selection import train_test_split"
   ]
  },
  {
   "cell_type": "code",
   "execution_count": 2,
   "metadata": {},
   "outputs": [],
   "source": [
    "train = load_from_disk('/l/users/speech_lab/MGB/HF_Datasets/MGB2HF_all_duration')['train']\n",
    "test = load_from_disk('/l/users/speech_lab/MGB/HF_Datasets/MGB2HF_all_duration')['test']"
   ]
  },
  {
   "cell_type": "code",
   "execution_count": 3,
   "metadata": {},
   "outputs": [],
   "source": [
    "map_numbers = {'0': '٠', '1': '١', '2': '٢', '3': '٣', '4': '٤', '5': '٥', '6': '٦', '7': '٧', '8': '٨', '9': '٩'}\n",
    "map_numbers = dict((v, k) for k, v in map_numbers.items())\n",
    "punctuations = ''.join([chr(i) for i in list(i for i in range(sys.maxunicode) if unicodedata.category(chr(i)).startswith('P'))])\n",
    "punctuations = punctuations + 'ݣ+=|$×⁄<>`åûݘ ڢ̇ پ\\n'\n",
    "\n",
    "def convert_numerals_to_digit(word):\n",
    "    sentence=[]\n",
    "    for w in word:\n",
    "        sentence.append(map_numbers.get(w, w))\n",
    "    word = ''.join(sentence)\n",
    "    return word\n",
    "\n",
    "def remove_diacritics(word):\n",
    "    return araby.strip_diacritics(word)\n",
    "     \n",
    "\n",
    "def remove_punctuation(word):\n",
    "    return word.translate(str.maketrans('', '', re.sub('[@% ]','', punctuations))).lower()\n",
    "\n",
    "def preprocess_arabic_text(text):\n",
    "    text = remove_diacritics(text)\n",
    "    text = convert_numerals_to_digit(text)\n",
    "    text = remove_punctuation(text)\n",
    "    return text\n",
    "\n",
    "base = '/l/users/speech_lab/MGB/MGB2/_segmented'\n",
    "def get_frames(fname):\n",
    "    fname = base + \"/\" + fname\n",
    "    return soundfile.info(fname).frames"
   ]
  },
  {
   "cell_type": "code",
   "execution_count": 4,
   "metadata": {},
   "outputs": [],
   "source": [
    "# train\n",
    "tr_df = pd.DataFrame()\n",
    "\n",
    "tr_df['arabic_text'] = train['arabic_text']\n",
    "tr_df['audio_path'] = train['audio_path']\n",
    "tr_df['speaker_embedding'] = train['speaker_name']\n",
    "\n",
    "# test\n",
    "te_df = pd.DataFrame()\n",
    "\n",
    "te_df['arabic_text'] = test['arabic_text']\n",
    "te_df['audio_path'] = test['audio_path']\n",
    "te_df['speaker_embedding'] = test['speaker_name']"
   ]
  },
  {
   "cell_type": "code",
   "execution_count": 5,
   "metadata": {},
   "outputs": [],
   "source": [
    "te_df['duration'] = te_df['audio_path'].apply(lambda x: get_frames(x))\n",
    "te_df['arabic_text'] = te_df['arabic_text'].apply(lambda x: preprocess_arabic_text(x))"
   ]
  },
  {
   "cell_type": "code",
   "execution_count": 6,
   "metadata": {},
   "outputs": [],
   "source": [
    "tr_df['arabic_text'] = tr_df['arabic_text'].apply(lambda x: preprocess_arabic_text(x))"
   ]
  },
  {
   "cell_type": "code",
   "execution_count": 7,
   "metadata": {},
   "outputs": [],
   "source": [
    "files = {'tr_df': '/l/users/speech_lab/_SpeechT5PretrainDataset/finetune/TTS/labels/train.txt',\n",
    "\"te_df\" :'/l/users/speech_lab/_SpeechT5PretrainDataset/finetune/TTS/labels/valid.txt'}"
   ]
  },
  {
   "cell_type": "code",
   "execution_count": 8,
   "metadata": {},
   "outputs": [],
   "source": [
    "audios ={'tr_df': '/l/users/speech_lab/_SpeechT5PretrainDataset/finetune/TTS/hubert_labels/train.txt',\n",
    "\"te_df\" :'/l/users/speech_lab/_SpeechT5PretrainDataset/finetune/TTS/hubert_labels/valid.txt'}"
   ]
  },
  {
   "cell_type": "markdown",
   "metadata": {},
   "source": [
    "### Text"
   ]
  },
  {
   "cell_type": "code",
   "execution_count": 15,
   "metadata": {},
   "outputs": [],
   "source": [
    "with open(files['te_df'], 'w') as f:\n",
    "        for i, row in te_df.iterrows():\n",
    "            if row['duration'] > 16000*40:\n",
    "                continue\n",
    "            else:\n",
    "                print(\n",
    "                    \"{}\".format(preprocess_arabic_text(row['arabic_text'])), file=f\n",
    "                )"
   ]
  },
  {
   "cell_type": "markdown",
   "metadata": {},
   "source": [
    "### Audio"
   ]
  },
  {
   "cell_type": "code",
   "execution_count": 23,
   "metadata": {},
   "outputs": [],
   "source": [
    "with open(audios['te_df'], 'w') as f:\n",
    "        print(base, file=f)\n",
    "        tqdm.pandas()\n",
    "        for i, row in te_df.iterrows():\n",
    "            if row['duration'] > 16000*40:\n",
    "                continue\n",
    "            else:\n",
    "                print(\"{}\\t{}\\tspeaker_embeddings/{}.npy\".\n",
    "                      format(row['audio_path'],row['duration'],row['speaker_embedding']),\n",
    "                      file=f)"
   ]
  },
  {
   "cell_type": "markdown",
   "metadata": {},
   "source": [
    "### Text"
   ]
  },
  {
   "cell_type": "code",
   "execution_count": 10,
   "metadata": {},
   "outputs": [
    {
     "name": "stderr",
     "output_type": "stream",
     "text": [
      "  0%|          | 469/376011 [00:00<03:44, 1672.20it/s]"
     ]
    },
    {
     "name": "stderr",
     "output_type": "stream",
     "text": [
      "100%|██████████| 376011/376011 [13:10<00:00, 475.85it/s]\n"
     ]
    }
   ],
   "source": [
    "with open(files['tr_df'], 'w') as f:\n",
    "        for i, row in tqdm(tr_df.iterrows(),  total =tr_df.shape[0]):\n",
    "            if get_frames(row['audio_path']) > 16000*20:\n",
    "                continue\n",
    "            else:\n",
    "                print(\n",
    "                    \"{}\".format(preprocess_arabic_text(row['arabic_text'])), file=f\n",
    "                )"
   ]
  },
  {
   "attachments": {},
   "cell_type": "markdown",
   "metadata": {},
   "source": [
    "### Audio"
   ]
  },
  {
   "cell_type": "code",
   "execution_count": 11,
   "metadata": {},
   "outputs": [
    {
     "name": "stderr",
     "output_type": "stream",
     "text": [
      "100%|██████████| 376011/376011 [04:57<00:00, 1263.24it/s]\n"
     ]
    }
   ],
   "source": [
    "with open(audios['tr_df'], 'w') as f:\n",
    "        print(base, file=f)\n",
    "        tqdm.pandas()\n",
    "        for i, row in tqdm(tr_df.iterrows(),  total =tr_df.shape[0]):\n",
    "            if get_frames(row['audio_path']) > 16000*20:\n",
    "                continue\n",
    "            else:\n",
    "                print(\"{}\\t{}\\tspeaker_embeddings/{}.npy\".\n",
    "                      format(row['audio_path'],get_frames(row['audio_path']),row['speaker_embedding']),\n",
    "                      file=f)"
   ]
  },
  {
   "cell_type": "code",
   "execution_count": null,
   "metadata": {},
   "outputs": [],
   "source": []
  }
 ],
 "metadata": {
  "kernelspec": {
   "display_name": "fseq",
   "language": "python",
   "name": "python3"
  },
  "language_info": {
   "codemirror_mode": {
    "name": "ipython",
    "version": 3
   },
   "file_extension": ".py",
   "mimetype": "text/x-python",
   "name": "python",
   "nbconvert_exporter": "python",
   "pygments_lexer": "ipython3",
   "version": "3.8.2"
  },
  "orig_nbformat": 4
 },
 "nbformat": 4,
 "nbformat_minor": 2
}
